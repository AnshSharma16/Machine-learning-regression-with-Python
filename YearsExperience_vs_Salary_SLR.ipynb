{
  "nbformat": 4,
  "nbformat_minor": 0,
  "metadata": {
    "colab": {
      "provenance": [],
      "authorship_tag": "ABX9TyPQEyNMjmYer5ttl5kdFd8r",
      "include_colab_link": true
    },
    "kernelspec": {
      "name": "python3",
      "display_name": "Python 3"
    },
    "language_info": {
      "name": "python"
    }
  },
  "cells": [
    {
      "cell_type": "markdown",
      "metadata": {
        "id": "view-in-github",
        "colab_type": "text"
      },
      "source": [
        "<a href=\"https://colab.research.google.com/github/AnshSharma16/Machine-learning-regression-with-Python/blob/main/YearsExperience_vs_Salary_SLR.ipynb\" target=\"_parent\"><img src=\"https://colab.research.google.com/assets/colab-badge.svg\" alt=\"Open In Colab\"/></a>"
      ]
    },
    {
      "cell_type": "markdown",
      "source": [
        "Importing libraries and checking the null values"
      ],
      "metadata": {
        "id": "egH36Kd5h3sY"
      }
    },
    {
      "cell_type": "code",
      "execution_count": null,
      "metadata": {
        "colab": {
          "base_uri": "https://localhost:8080/",
          "height": 663
        },
        "id": "QPRwfU9J4yR7",
        "outputId": "be07164d-cfdb-476d-8176-0d2258ad3bf0"
      },
      "outputs": [
        {
          "output_type": "display_data",
          "data": {
            "text/plain": [
              "<IPython.core.display.HTML object>"
            ],
            "text/html": [
              "\n",
              "     <input type=\"file\" id=\"files-dff5c265-da26-4f2d-a75a-eb5ffc5a850e\" name=\"files[]\" multiple disabled\n",
              "        style=\"border:none\" />\n",
              "     <output id=\"result-dff5c265-da26-4f2d-a75a-eb5ffc5a850e\">\n",
              "      Upload widget is only available when the cell has been executed in the\n",
              "      current browser session. Please rerun this cell to enable.\n",
              "      </output>\n",
              "      <script>// Copyright 2017 Google LLC\n",
              "//\n",
              "// Licensed under the Apache License, Version 2.0 (the \"License\");\n",
              "// you may not use this file except in compliance with the License.\n",
              "// You may obtain a copy of the License at\n",
              "//\n",
              "//      http://www.apache.org/licenses/LICENSE-2.0\n",
              "//\n",
              "// Unless required by applicable law or agreed to in writing, software\n",
              "// distributed under the License is distributed on an \"AS IS\" BASIS,\n",
              "// WITHOUT WARRANTIES OR CONDITIONS OF ANY KIND, either express or implied.\n",
              "// See the License for the specific language governing permissions and\n",
              "// limitations under the License.\n",
              "\n",
              "/**\n",
              " * @fileoverview Helpers for google.colab Python module.\n",
              " */\n",
              "(function(scope) {\n",
              "function span(text, styleAttributes = {}) {\n",
              "  const element = document.createElement('span');\n",
              "  element.textContent = text;\n",
              "  for (const key of Object.keys(styleAttributes)) {\n",
              "    element.style[key] = styleAttributes[key];\n",
              "  }\n",
              "  return element;\n",
              "}\n",
              "\n",
              "// Max number of bytes which will be uploaded at a time.\n",
              "const MAX_PAYLOAD_SIZE = 100 * 1024;\n",
              "\n",
              "function _uploadFiles(inputId, outputId) {\n",
              "  const steps = uploadFilesStep(inputId, outputId);\n",
              "  const outputElement = document.getElementById(outputId);\n",
              "  // Cache steps on the outputElement to make it available for the next call\n",
              "  // to uploadFilesContinue from Python.\n",
              "  outputElement.steps = steps;\n",
              "\n",
              "  return _uploadFilesContinue(outputId);\n",
              "}\n",
              "\n",
              "// This is roughly an async generator (not supported in the browser yet),\n",
              "// where there are multiple asynchronous steps and the Python side is going\n",
              "// to poll for completion of each step.\n",
              "// This uses a Promise to block the python side on completion of each step,\n",
              "// then passes the result of the previous step as the input to the next step.\n",
              "function _uploadFilesContinue(outputId) {\n",
              "  const outputElement = document.getElementById(outputId);\n",
              "  const steps = outputElement.steps;\n",
              "\n",
              "  const next = steps.next(outputElement.lastPromiseValue);\n",
              "  return Promise.resolve(next.value.promise).then((value) => {\n",
              "    // Cache the last promise value to make it available to the next\n",
              "    // step of the generator.\n",
              "    outputElement.lastPromiseValue = value;\n",
              "    return next.value.response;\n",
              "  });\n",
              "}\n",
              "\n",
              "/**\n",
              " * Generator function which is called between each async step of the upload\n",
              " * process.\n",
              " * @param {string} inputId Element ID of the input file picker element.\n",
              " * @param {string} outputId Element ID of the output display.\n",
              " * @return {!Iterable<!Object>} Iterable of next steps.\n",
              " */\n",
              "function* uploadFilesStep(inputId, outputId) {\n",
              "  const inputElement = document.getElementById(inputId);\n",
              "  inputElement.disabled = false;\n",
              "\n",
              "  const outputElement = document.getElementById(outputId);\n",
              "  outputElement.innerHTML = '';\n",
              "\n",
              "  const pickedPromise = new Promise((resolve) => {\n",
              "    inputElement.addEventListener('change', (e) => {\n",
              "      resolve(e.target.files);\n",
              "    });\n",
              "  });\n",
              "\n",
              "  const cancel = document.createElement('button');\n",
              "  inputElement.parentElement.appendChild(cancel);\n",
              "  cancel.textContent = 'Cancel upload';\n",
              "  const cancelPromise = new Promise((resolve) => {\n",
              "    cancel.onclick = () => {\n",
              "      resolve(null);\n",
              "    };\n",
              "  });\n",
              "\n",
              "  // Wait for the user to pick the files.\n",
              "  const files = yield {\n",
              "    promise: Promise.race([pickedPromise, cancelPromise]),\n",
              "    response: {\n",
              "      action: 'starting',\n",
              "    }\n",
              "  };\n",
              "\n",
              "  cancel.remove();\n",
              "\n",
              "  // Disable the input element since further picks are not allowed.\n",
              "  inputElement.disabled = true;\n",
              "\n",
              "  if (!files) {\n",
              "    return {\n",
              "      response: {\n",
              "        action: 'complete',\n",
              "      }\n",
              "    };\n",
              "  }\n",
              "\n",
              "  for (const file of files) {\n",
              "    const li = document.createElement('li');\n",
              "    li.append(span(file.name, {fontWeight: 'bold'}));\n",
              "    li.append(span(\n",
              "        `(${file.type || 'n/a'}) - ${file.size} bytes, ` +\n",
              "        `last modified: ${\n",
              "            file.lastModifiedDate ? file.lastModifiedDate.toLocaleDateString() :\n",
              "                                    'n/a'} - `));\n",
              "    const percent = span('0% done');\n",
              "    li.appendChild(percent);\n",
              "\n",
              "    outputElement.appendChild(li);\n",
              "\n",
              "    const fileDataPromise = new Promise((resolve) => {\n",
              "      const reader = new FileReader();\n",
              "      reader.onload = (e) => {\n",
              "        resolve(e.target.result);\n",
              "      };\n",
              "      reader.readAsArrayBuffer(file);\n",
              "    });\n",
              "    // Wait for the data to be ready.\n",
              "    let fileData = yield {\n",
              "      promise: fileDataPromise,\n",
              "      response: {\n",
              "        action: 'continue',\n",
              "      }\n",
              "    };\n",
              "\n",
              "    // Use a chunked sending to avoid message size limits. See b/62115660.\n",
              "    let position = 0;\n",
              "    do {\n",
              "      const length = Math.min(fileData.byteLength - position, MAX_PAYLOAD_SIZE);\n",
              "      const chunk = new Uint8Array(fileData, position, length);\n",
              "      position += length;\n",
              "\n",
              "      const base64 = btoa(String.fromCharCode.apply(null, chunk));\n",
              "      yield {\n",
              "        response: {\n",
              "          action: 'append',\n",
              "          file: file.name,\n",
              "          data: base64,\n",
              "        },\n",
              "      };\n",
              "\n",
              "      let percentDone = fileData.byteLength === 0 ?\n",
              "          100 :\n",
              "          Math.round((position / fileData.byteLength) * 100);\n",
              "      percent.textContent = `${percentDone}% done`;\n",
              "\n",
              "    } while (position < fileData.byteLength);\n",
              "  }\n",
              "\n",
              "  // All done.\n",
              "  yield {\n",
              "    response: {\n",
              "      action: 'complete',\n",
              "    }\n",
              "  };\n",
              "}\n",
              "\n",
              "scope.google = scope.google || {};\n",
              "scope.google.colab = scope.google.colab || {};\n",
              "scope.google.colab._files = {\n",
              "  _uploadFiles,\n",
              "  _uploadFilesContinue,\n",
              "};\n",
              "})(self);\n",
              "</script> "
            ]
          },
          "metadata": {}
        },
        {
          "output_type": "stream",
          "name": "stdout",
          "text": [
            "Saving Salary_dataset.csv to Salary_dataset (3).csv\n",
            "YearsExperience    0.0\n",
            "Salary             0.0\n",
            "dtype: float64\n",
            "    YearsExperience  Salary\n",
            "0               1.2   39344\n",
            "1               1.4   46206\n",
            "2               1.6   37732\n",
            "3               2.1   43526\n",
            "4               2.3   39892\n",
            "5               3.0   56643\n",
            "6               3.1   60151\n",
            "7               3.3   54446\n",
            "8               3.3   64446\n",
            "9               3.8   57190\n",
            "10              4.0   63219\n",
            "11              4.1   55795\n",
            "12              4.1   56958\n",
            "13              4.2   57082\n",
            "14              4.6   61112\n",
            "15              5.0   67939\n",
            "16              5.2   66030\n",
            "17              5.4   83089\n",
            "18              6.0   81364\n",
            "19              6.1   93941\n",
            "20              6.9   91739\n",
            "21              7.2   98274\n",
            "22              8.0  101303\n",
            "23              8.3  113813\n",
            "24              8.8  109432\n",
            "25              9.1  105583\n",
            "26              9.6  116970\n",
            "27              9.7  112636\n",
            "28             10.4  122392\n",
            "29             10.6  121873\n"
          ]
        }
      ],
      "source": [
        "from google.colab import files\n",
        "uploaded = files.upload()\n",
        "\n",
        "import pandas as pd\n",
        "import matplotlib.pyplot as plt\n",
        "\n",
        "df = pd.read_csv(\"Salary_dataset.csv\")\n",
        "print(round((df.isnull().sum() / df.shape[0]) * 100, 2))\n",
        "print(df)\n"
      ]
    },
    {
      "cell_type": "markdown",
      "source": [
        "Checking outliers by box plot"
      ],
      "metadata": {
        "id": "vKpPV0m5msMt"
      }
    },
    {
      "cell_type": "code",
      "source": [
        "plt.boxplot(df['YearsExperience'], vert=False)\n",
        "plt.xlabel('YearsExperience')\n",
        "plt.ylabel('Variable')\n",
        "plt.title('Box Plot of YearsExperience')\n",
        "plt.show()"
      ],
      "metadata": {
        "colab": {
          "base_uri": "https://localhost:8080/",
          "height": 472
        },
        "id": "eQlrG1c0mxmm",
        "outputId": "5de29914-a6b4-4109-f9a4-446d94629e90"
      },
      "execution_count": null,
      "outputs": [
        {
          "output_type": "display_data",
          "data": {
            "text/plain": [
              "<Figure size 640x480 with 1 Axes>"
            ],
            "image/png": "[encoded data removed]"
          },
          "metadata": {}
        }
      ]
    },
    {
      "cell_type": "markdown",
      "source": [
        "Bar graph"
      ],
      "metadata": {
        "id": "C54U-GaLif7L"
      }
    },
    {
      "cell_type": "code",
      "source": [
        "\n",
        "# Create a bar plot for YearsExperience vs Salary\n",
        "plt.bar(df[\"YearsExperience\"], df[\"Salary\"],width=0.1, edgecolor='black', color='green')\n",
        "plt.xlabel('YearsExperience')\n",
        "plt.ylabel('Salary')\n",
        "plt.title('YearsExperience vs Salary')\n",
        "plt.show()\n"
      ],
      "metadata": {
        "colab": {
          "base_uri": "https://localhost:8080/",
          "height": 472
        },
        "id": "10CRod7LVCA7",
        "outputId": "7fe7efc0-414f-4cde-f650-9cbbf40ffbda"
      },
      "execution_count": null,
      "outputs": [
        {
          "output_type": "display_data",
          "data": {
            "text/plain": [
              "<Figure size 640x480 with 1 Axes>"
            ],
            "image/png": "[encoded data removed]"
          },
          "metadata": {}
        }
      ]
    },
    {
      "cell_type": "markdown",
      "source": [
        "Feature Scaling using Maximum Absolute method"
      ],
      "metadata": {
        "id": "k4QHElPVitAg"
      }
    },
    {
      "cell_type": "code",
      "source": [
        "max_vals=np.max(np.abs(df))\n",
        "df=(df-max_vals)/max_vals\n",
        "print(df)\n"
      ],
      "metadata": {
        "colab": {
          "base_uri": "https://localhost:8080/"
        },
        "id": "Kw7XoVU9VE8n",
        "outputId": "2315740c-0545-43c6-8a11-dadb7f61b97b"
      },
      "execution_count": null,
      "outputs": [
        {
          "output_type": "stream",
          "name": "stdout",
          "text": [
            "    YearsExperience    Salary\n",
            "0         -0.999990 -0.678541\n",
            "1         -0.999989 -0.622475\n",
            "2         -0.999987 -0.691712\n",
            "3         -0.999983 -0.644372\n",
            "4         -0.999981 -0.674064\n",
            "5         -0.999975 -0.537200\n",
            "6         -0.999975 -0.508538\n",
            "7         -0.999973 -0.555151\n",
            "8         -0.999973 -0.473446\n",
            "9         -0.999969 -0.532731\n",
            "10        -0.999967 -0.483471\n",
            "11        -0.999967 -0.544129\n",
            "12        -0.999967 -0.534626\n",
            "13        -0.999966 -0.533613\n",
            "14        -0.999962 -0.500686\n",
            "15        -0.999959 -0.444907\n",
            "16        -0.999958 -0.460504\n",
            "17        -0.999956 -0.321124\n",
            "18        -0.999951 -0.335218\n",
            "19        -0.999950 -0.232458\n",
            "20        -0.999944 -0.250449\n",
            "21        -0.999941 -0.197055\n",
            "22        -0.999935 -0.172307\n",
            "23        -0.999932 -0.070094\n",
            "24        -0.999928 -0.105889\n",
            "25        -0.999926 -0.137337\n",
            "26        -0.999922 -0.044300\n",
            "27        -0.999921 -0.079711\n",
            "28        -0.999915  0.000000\n",
            "29        -0.999913 -0.004240\n"
          ]
        }
      ]
    },
    {
      "cell_type": "markdown",
      "source": [
        "Model selection and Evaluation metrics"
      ],
      "metadata": {
        "id": "qQ60BtJYi75G"
      }
    },
    {
      "cell_type": "code",
      "source": [
        "from sklearn.model_selection import train_test_split\n",
        "from sklearn.linear_model import LinearRegression\n",
        "from sklearn.metrics import mean_squared_error, r2_score\n",
        "\n",
        "x = df['YearsExperience'].values.reshape(-1, 1)\n",
        "y = df['Salary'].values.reshape(-1,1)\n",
        "\n",
        "x_train,x_test,y_train,y_test=train_test_split(x,y,test_size=0.5,random_state=42)\n",
        "\n",
        "regressor=LinearRegression()\n",
        "regressor.fit(x_train,y_train)\n",
        "\n",
        "y_pred=regressor.predict(x_test)\n",
        "\n",
        "mse=mean_squared_error(y_test,y_pred)\n",
        "rmse=np.sqrt(mean_squared_error(y_test,y_pred))\n",
        "r2=r2_score(y_test,y_pred)\n",
        "\n",
        "print(\"Root Mean Squared Error:\",rmse)\n",
        "print(\"Mean Squared Error: \",mse)\n",
        "print(\"R-squared:\",r2)\n",
        "print(f\"Model Accuracy: {regressor.score(x_test,y_test) * 100:.2f}%\")"
      ],
      "metadata": {
        "colab": {
          "base_uri": "https://localhost:8080/"
        },
        "id": "XU1uJ87HX99c",
        "outputId": "b61af651-4a59-42fd-aeb0-03f75e1313cb"
      },
      "execution_count": null,
      "outputs": [
        {
          "output_type": "stream",
          "name": "stdout",
          "text": [
            "Root Mean Squared Error: 0.053667584894349626\n",
            "Mean Squared Error:  0.002880209668392224\n",
            "R-squared: 0.9400870162548599\n",
            "Model Accuracy: 94.01%\n"
          ]
        }
      ]
    },
    {
      "cell_type": "markdown",
      "source": [
        "Regression Line plotting"
      ],
      "metadata": {
        "id": "_wBQjBQ5jF_V"
      }
    },
    {
      "cell_type": "code",
      "source": [
        "plt.scatter(x_test,y_test,color='blue')\n",
        "plt.plot(x_test,y_pred,color='red')\n",
        "plt.xlabel('YearsExperience')\n",
        "plt.ylabel('Salary')\n",
        "plt.title('YearsExperience vs Salary')\n",
        "plt.show()"
      ],
      "metadata": {
        "colab": {
          "base_uri": "https://localhost:8080/",
          "height": 472
        },
        "id": "XytKzHSvfN7Q",
        "outputId": "108227a1-19db-45ec-b3f4-7bcbf533fa17"
      },
      "execution_count": null,
      "outputs": [
        {
          "output_type": "display_data",
          "data": {
            "text/plain": [
              "<Figure size 640x480 with 1 Axes>"
            ],
            "image/png": "[encoded data removed]"
          },
          "metadata": {}
        }
      ]
    }
  ]
}